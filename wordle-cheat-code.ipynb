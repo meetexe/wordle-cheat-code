{
 "cells": [
  {
   "cell_type": "markdown",
   "id": "40e53531",
   "metadata": {
    "papermill": {
     "duration": 0.011508,
     "end_time": "2022-03-19T12:52:43.690273",
     "exception": false,
     "start_time": "2022-03-19T12:52:43.678765",
     "status": "completed"
    },
    "tags": []
   },
   "source": [
    "# Preface\n",
    "> I am equally taken a back by the popularity of the Wordle game as much as you guys are. I have wrote a script which provides you the word with most popular letters and is closest(statistically) to the best guess. Have doubts? Check yourself! \n",
    "> Here is the link to the [Wordle website](https://www.nytimes.com/games/wordle/index.html). The code has been provided with instructions(scroll to the end ⬇) to use it."
   ]
  },
  {
   "cell_type": "markdown",
   "id": "95ef5f9e",
   "metadata": {
    "papermill": {
     "duration": 0.009761,
     "end_time": "2022-03-19T12:52:43.711965",
     "exception": false,
     "start_time": "2022-03-19T12:52:43.702204",
     "status": "completed"
    },
    "tags": []
   },
   "source": [
    "### 1. Loading and processing dataset\n",
    "> I found this dataset from the creator of the **best mathematics channel on YouTube**, Grant Sanderson. His video on [3Blue1Brown](https://youtu.be/v68zYyaEmEA) inspired this idea. Thanks, Grant!!!"
   ]
  },
  {
   "cell_type": "code",
   "execution_count": 1,
   "id": "3297584a",
   "metadata": {
    "execution": {
     "iopub.execute_input": "2022-03-19T12:52:43.738205Z",
     "iopub.status.busy": "2022-03-19T12:52:43.736416Z",
     "iopub.status.idle": "2022-03-19T12:52:43.761122Z",
     "shell.execute_reply": "2022-03-19T12:52:43.760368Z",
     "shell.execute_reply.started": "2022-03-19T12:28:15.008816Z"
    },
    "papermill": {
     "duration": 0.039364,
     "end_time": "2022-03-19T12:52:43.761302",
     "exception": false,
     "start_time": "2022-03-19T12:52:43.721938",
     "status": "completed"
    },
    "tags": []
   },
   "outputs": [
    {
     "name": "stdout",
     "output_type": "stream",
     "text": [
      "Total number of five-letter words: 12972\n",
      "Sample:\n",
      "['aahed', 'aalii', 'aargh', 'aarti', 'abaca', 'abaci', 'aback', 'abacs', 'abaft', 'abaka']\n"
     ]
    }
   ],
   "source": [
    "with open(\"../input/five-letter-words/word_list.txt\") as data:\n",
    "    word_list = [word.rstrip() for word in data]\n",
    "\n",
    "print('Total number of five-letter words: {}\\nSample:\\n{}'.format(len(word_list), word_list[:10]))"
   ]
  },
  {
   "cell_type": "markdown",
   "id": "914af923",
   "metadata": {
    "papermill": {
     "duration": 0.010371,
     "end_time": "2022-03-19T12:52:43.782717",
     "exception": false,
     "start_time": "2022-03-19T12:52:43.772346",
     "status": "completed"
    },
    "tags": []
   },
   "source": [
    "### 2. Finding popular letters:\n",
    "> I calculated frequency of each letter and created a dicionary object consisting all the **alphabets as keys** and its frequency as their values."
   ]
  },
  {
   "cell_type": "code",
   "execution_count": 2,
   "id": "106c7947",
   "metadata": {
    "execution": {
     "iopub.execute_input": "2022-03-19T12:52:43.807947Z",
     "iopub.status.busy": "2022-03-19T12:52:43.806967Z",
     "iopub.status.idle": "2022-03-19T12:52:43.826289Z",
     "shell.execute_reply": "2022-03-19T12:52:43.826904Z",
     "shell.execute_reply.started": "2022-03-19T12:28:15.029006Z"
    },
    "papermill": {
     "duration": 0.033386,
     "end_time": "2022-03-19T12:52:43.827084",
     "exception": false,
     "start_time": "2022-03-19T12:52:43.793698",
     "status": "completed"
    },
    "tags": []
   },
   "outputs": [
    {
     "name": "stdout",
     "output_type": "stream",
     "text": [
      "{'s': 6665, 'e': 6662, 'a': 5990, 'o': 4438, 'r': 4158, 'i': 3759, 'l': 3371, 't': 3295, 'n': 2952, 'u': 2511, 'd': 2453, 'y': 2074, 'c': 2028, 'p': 2019, 'm': 1976, 'h': 1760, 'g': 1644, 'b': 1627, 'k': 1505, 'f': 1115, 'w': 1039, 'v': 694, 'z': 434, 'j': 291, 'x': 288, 'q': 112}\n"
     ]
    }
   ],
   "source": [
    "def frequency_dict(word_data):\n",
    "    freq = {}\n",
    "    for alphabet in list('abcdefghijklmnopqrstuvwxyz'):\n",
    "        freq[alphabet] = 0\n",
    "    for one in word_data:\n",
    "        letters = list(one)\n",
    "        for i in letters:\n",
    "            freq[i] += 1\n",
    "    freq_list = sorted(((value, key) for key, value in freq.items()), reverse=True)\n",
    "    freq = dict((k,v) for v,k in freq_list)\n",
    "    return freq\n",
    "\n",
    "popular_letters = frequency_dict(word_list)\n",
    "print(popular_letters)"
   ]
  },
  {
   "cell_type": "markdown",
   "id": "47643e30",
   "metadata": {
    "papermill": {
     "duration": 0.010658,
     "end_time": "2022-03-19T12:52:43.848604",
     "exception": false,
     "start_time": "2022-03-19T12:52:43.837946",
     "status": "completed"
    },
    "tags": []
   },
   "source": [
    "### 3. Suggesting popular words:\n",
    "> I sorted all the words based on popularity of its letters(basically its frequency in the dataset). This will help us in choosing the word that will eleminate highest wrong words from the available words. Two of the best guesses as our first guess will be '**SOARE**' and '**AROSE**'."
   ]
  },
  {
   "cell_type": "code",
   "execution_count": 3,
   "id": "83d75924",
   "metadata": {
    "execution": {
     "iopub.execute_input": "2022-03-19T12:52:43.874187Z",
     "iopub.status.busy": "2022-03-19T12:52:43.873271Z",
     "iopub.status.idle": "2022-03-19T12:52:43.922511Z",
     "shell.execute_reply": "2022-03-19T12:52:43.921909Z",
     "shell.execute_reply.started": "2022-03-19T12:28:15.053473Z"
    },
    "papermill": {
     "duration": 0.06282,
     "end_time": "2022-03-19T12:52:43.922649",
     "exception": false,
     "start_time": "2022-03-19T12:52:43.859829",
     "status": "completed"
    },
    "tags": []
   },
   "outputs": [
    {
     "name": "stdout",
     "output_type": "stream",
     "text": [
      "{'soare': 27913, 'arose': 27913, 'aeros': 27913, 'serai': 27234, 'reais': 27234, 'raise': 27234, 'arise': 27234, 'aesir': 27234, 'aloes': 27126, 'toeas': 27050}\n"
     ]
    }
   ],
   "source": [
    "def suggest_best_words(list_of_words, famous_letters):\n",
    "    word_fame = {}\n",
    "    for word in list_of_words:\n",
    "        word_weight = 0\n",
    "        letters = list(word)\n",
    "        letters = list(set(letters))\n",
    "        for i in letters:\n",
    "            word_weight += famous_letters[i]\n",
    "        word_fame[word] = word_weight\n",
    "    fame_tuple = sorted(((value, key) for key, value in word_fame.items()), reverse=True)\n",
    "    word_fame = dict((k,v) for v,k in fame_tuple)\n",
    "    return word_fame\n",
    "\n",
    "best_words = suggest_best_words(word_list, popular_letters)\n",
    "best_words10 = dict(list(best_words.items())[0:10])\n",
    "print(best_words10)"
   ]
  },
  {
   "cell_type": "markdown",
   "id": "0ece0a2a",
   "metadata": {
    "papermill": {
     "duration": 0.011138,
     "end_time": "2022-03-19T12:52:43.945976",
     "exception": false,
     "start_time": "2022-03-19T12:52:43.934838",
     "status": "completed"
    },
    "tags": []
   },
   "source": [
    "### 4. Filtering the useful words:\n",
    "> This will filter out the words based on the hint provided after our first guess. We will communicate **hint**(color coding after inputing the word in Wordle) to this code using following notations:\n",
    "> * Gray: 0\n",
    "> * Yellow: 1\n",
    "> * Green: 2"
   ]
  },
  {
   "cell_type": "code",
   "execution_count": 4,
   "id": "a403bb3e",
   "metadata": {
    "execution": {
     "iopub.execute_input": "2022-03-19T12:52:43.971875Z",
     "iopub.status.busy": "2022-03-19T12:52:43.971222Z",
     "iopub.status.idle": "2022-03-19T12:52:43.983496Z",
     "shell.execute_reply": "2022-03-19T12:52:43.984003Z",
     "shell.execute_reply.started": "2022-03-19T12:28:15.112823Z"
    },
    "papermill": {
     "duration": 0.026659,
     "end_time": "2022-03-19T12:52:43.984169",
     "exception": false,
     "start_time": "2022-03-19T12:52:43.957510",
     "status": "completed"
    },
    "tags": []
   },
   "outputs": [],
   "source": [
    "def filtration(word, hint, look_into):\n",
    "    filtered_words = []\n",
    "    word = list(str(word))\n",
    "    hint = list(str(hint))\n",
    "    bad_letters, useful_letters = [], {}\n",
    "    position = -1\n",
    "    for letter, weight in zip(word, hint):\n",
    "        position += 1\n",
    "        if weight == '0':\n",
    "            bad_letters.append(letter)                                      # identifying grey letters from the guessed word\n",
    "        elif weight == '2':\n",
    "            useful_letters[str(position)] = letter                          #identifying green letters from the guessed word\n",
    "    for cur_word in look_into:\n",
    "        unwanted_word = False\n",
    "        list_of_letters = list(cur_word)\n",
    "        if len(set(bad_letters).intersection(list_of_letters)) == 0:        #eliminating words consisting gray letters\n",
    "            position = -1\n",
    "            for letter, weight in zip(word, hint):\n",
    "                position += 1\n",
    "                for loc, cur_word_letter in enumerate(list_of_letters):     #eliminating words having yellow letter at the same place\n",
    "                    if (cur_word_letter == letter) and (loc == position):\n",
    "                        unwanted_word = True\n",
    "                        break\n",
    "                if weight == '2':\n",
    "                    if letter == list_of_letters[position]:\n",
    "                        filtered_words.append(cur_word)\n",
    "                elif weight == '1':\n",
    "                    if letter in list_of_letters:\n",
    "                        if letter == list_of_letters[position] and cur_word in filtered_words:\n",
    "                            filtered_words.remove(cur_word)\n",
    "                        elif letter != list_of_letters[position] and unwanted_word == False:\n",
    "                            filtered_words.append(cur_word)\n",
    "                    else:\n",
    "                        if cur_word in filtered_words:\n",
    "                            filtered_words.remove(cur_word)\n",
    "                if len(useful_letters) > 0:\n",
    "                    for k,v in useful_letters.items():                          #eliminating word not consisting green letters\n",
    "                        if  list_of_letters[int(k)] != v and cur_word in filtered_words:\n",
    "                            filtered_words.remove(cur_word)\n",
    "\n",
    "    print('Total Useful Words:', len(filtered_words))\n",
    "    famous_words = suggest_best_words(filtered_words, popular_letters)\n",
    "    return famous_words"
   ]
  },
  {
   "cell_type": "markdown",
   "id": "aa11f11c",
   "metadata": {
    "papermill": {
     "duration": 0.011118,
     "end_time": "2022-03-19T12:52:44.006632",
     "exception": false,
     "start_time": "2022-03-19T12:52:43.995514",
     "status": "completed"
    },
    "tags": []
   },
   "source": [
    "### 5. How to use the code? Follow these simple steps:\n",
    "1. Open Wordle game in another tab and type '**AROSE**' as your first guess.\n",
    "2. Input the **hint**(color coding after inputing the word in Wordle) in the form of **string object** in the cell below and run the code.\n",
    "> Use following notations to input hint.\n",
    "> > * Gray letter : '0'\n",
    "> > * Yellow letter: '1'\n",
    "> > * Green letter : '2'\n",
    "\n",
    "3. Select the word from the result for next attempt. (**Remider**: Use your brain. Do not select first word blindly.)"
   ]
  },
  {
   "cell_type": "code",
   "execution_count": 5,
   "id": "2b31d849",
   "metadata": {
    "execution": {
     "iopub.execute_input": "2022-03-19T12:52:44.037959Z",
     "iopub.status.busy": "2022-03-19T12:52:44.037292Z",
     "iopub.status.idle": "2022-03-19T12:52:44.569639Z",
     "shell.execute_reply": "2022-03-19T12:52:44.570129Z",
     "shell.execute_reply.started": "2022-03-19T12:28:15.131597Z"
    },
    "papermill": {
     "duration": 0.552379,
     "end_time": "2022-03-19T12:52:44.570319",
     "exception": false,
     "start_time": "2022-03-19T12:52:44.017940",
     "status": "completed"
    },
    "tags": []
   },
   "outputs": [
    {
     "name": "stdout",
     "output_type": "stream",
     "text": [
      "Total Useful Words: 957\n",
      "Total Useful Words: 33\n",
      "[('saute', 25123), ('spate', 24631), ('skate', 24117), ('suite', 22892), ('state', 22612), ('spite', 22400), ('smite', 22357), ('shite', 22141), ('skite', 21886), ('scute', 21161), ('shute', 20893), ('sixte', 20669), ('skyte', 20201), ('sente', 19574), ('suete', 19133), ('styte', 18696)]\n"
     ]
    }
   ],
   "source": [
    "useful1 = filtration('arose', '10012', word_list)\n",
    "useful2 = filtration('slate', '20122', useful1)\n",
    "# useful3 = filtration('monie', '22022', useful2)\n",
    "# useful4 = filtration('match', '02222', useful3)\n",
    "print(list(useful2.items())[:20])"
   ]
  }
 ],
 "metadata": {
  "kernelspec": {
   "display_name": "Python 3",
   "language": "python",
   "name": "python3"
  },
  "language_info": {
   "codemirror_mode": {
    "name": "ipython",
    "version": 3
   },
   "file_extension": ".py",
   "mimetype": "text/x-python",
   "name": "python",
   "nbconvert_exporter": "python",
   "pygments_lexer": "ipython3",
   "version": "3.7.12"
  },
  "papermill": {
   "default_parameters": {},
   "duration": 12.022054,
   "end_time": "2022-03-19T12:52:45.191705",
   "environment_variables": {},
   "exception": null,
   "input_path": "__notebook__.ipynb",
   "output_path": "__notebook__.ipynb",
   "parameters": {},
   "start_time": "2022-03-19T12:52:33.169651",
   "version": "2.3.3"
  }
 },
 "nbformat": 4,
 "nbformat_minor": 5
}
